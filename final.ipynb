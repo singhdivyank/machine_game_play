{
 "cells": [
  {
   "cell_type": "code",
   "execution_count": null,
   "metadata": {},
   "outputs": [],
   "source": [
    "import cv2\n",
    "import json\n",
    "import numpy as np\n",
    "import retro\n",
    "import time\n",
    "import optuna\n",
    "import os\n",
    "\n",
    "from gym import Env\n",
    "from gym.spaces import MultiBinary, Box\n",
    "from stable_baselines3 import PPO\n",
    "from stable_baselines3.common.callbacks import BaseCallback\n",
    "from stable_baselines3.common.evaluation import evaluate_policy\n",
    "from stable_baselines3.common.monitor import Monitor\n",
    "from stable_baselines3.common.vec_env import DummyVecEnv, VecFrameStack"
   ]
  },
  {
   "cell_type": "markdown",
   "metadata": {},
   "source": [
    "before specifying game name in config.json run the following command from game rom location-\n",
    "\n",
    "`python -m retro.import .`\n",
    "\n",
    "from the given names choose one name as the game env and mention it in the config file"
   ]
  },
  {
   "cell_type": "code",
   "execution_count": null,
   "metadata": {},
   "outputs": [],
   "source": [
    "config_file = open('config.json')\n",
    "config_data = json.load(config_file)\n",
    "\n",
    "game_env = config_data['game_env'] # initialise the game environment"
   ]
  },
  {
   "cell_type": "code",
   "execution_count": null,
   "metadata": {},
   "outputs": [],
   "source": [
    "# initialise all log directories\n",
    "\n",
    "LOG_DIR = './logs/'\n",
    "OPT_DIR = './opt/'\n",
    "CHECKPOINT_DIR = './train/'"
   ]
  },
  {
   "cell_type": "markdown",
   "metadata": {},
   "source": [
    "# Create game class\n",
    "\n",
    "- Setup the environment by specifying the observation space, action space and the game environment\n",
    "\n",
    "- Perform pre processing on the game environment:\n",
    "    * convert the gym retro frame to grayscale\n",
    "    * compute a frame delta\n",
    "    * resize the frame for fewer pixels\n",
    "    * filter the action parameter\n",
    "    * set score variable as the reward function"
   ]
  },
  {
   "cell_type": "code",
   "execution_count": null,
   "metadata": {},
   "outputs": [],
   "source": [
    "class StreetFighter(Env):\n",
    "\n",
    "    def __init__(self):\n",
    "\n",
    "        \"\"\"\n",
    "        function for environment setup\n",
    "        \"\"\"\n",
    "\n",
    "        super.__init__()\n",
    "\n",
    "        # specify observation space\n",
    "        self.observation_space = Box(\n",
    "            low=0, high=255, shape=(84, 84, 1), dtype=np.uint8\n",
    "            )\n",
    "        # specify action space\n",
    "        self.action_space = MultiBinary(12)\n",
    "        # startup an instance of the game\n",
    "        self.game = retro.make(\n",
    "            game=game_env, use_restricted_actions=retro.ACTIONS.FILTERED\n",
    "            )\n",
    "        pass\n",
    "    \n",
    "    def reset(self):\n",
    "\n",
    "        # create an attribute to hold score delta\n",
    "        self.score = 0\n",
    "        \n",
    "        obs = self.game.reset() # return the first frame\n",
    "        obs = self.preprocess(obs)\n",
    "        self.previous_frame = obs\n",
    "\n",
    "        return obs\n",
    "\n",
    "    def preprocess(self, observation):\n",
    "        \n",
    "        gray = cv2.cvtColor(observation, cv2.COLOR_BGR2GRAY)\n",
    "        resize = cv2.resize(\n",
    "            gray, (84, 84, 1), interpolation=cv2.INTER_CUBIC\n",
    "            ) # resize\n",
    "        channels = np.reshape(resize, (84, 84, 1)) # add the channels value\n",
    "        \n",
    "        return channels\n",
    "\n",
    "    def step(self, action):\n",
    "\n",
    "        # take a step\n",
    "        obs, reward, done, info = self.game.step(action)\n",
    "        obs = self.preprocess(obs)\n",
    "\n",
    "        # frame delta\n",
    "        frame_delta = obs-self.previous_frame\n",
    "        self.previous_frame = obs\n",
    "\n",
    "        # rehape the reward\n",
    "        reward = info['score'] - self.score\n",
    "        self.score = info['score']\n",
    "        \n",
    "        return frame_delta, reward, done, info\n",
    "\n",
    "    def render(self, *args, **kwargs):\n",
    "        self.game.render()\n",
    "\n",
    "    def close(self):\n",
    "        self.game.close()\n"
   ]
  },
  {
   "cell_type": "markdown",
   "metadata": {},
   "source": [
    "## Run the game once"
   ]
  },
  {
   "cell_type": "code",
   "execution_count": null,
   "metadata": {},
   "outputs": [],
   "source": [
    "env = StreetFighter()\n",
    "\n",
    "observation_space = env.action_space.sample() # obtain the observation space\n",
    "actions = env.action_space.sample() # obtain the actions\n",
    "obs = env.reset() # reset the game to starting state\n",
    "done = False # set flag to false"
   ]
  },
  {
   "cell_type": "code",
   "execution_count": null,
   "metadata": {},
   "outputs": [],
   "source": [
    "for game in range(1):\n",
    "    while not done:\n",
    "        if done:\n",
    "            obs = env.reset()\n",
    "        env.render()\n",
    "        obs, reward, done, info = env.step(actions)\n",
    "        time.sleep(0.01)\n",
    "        if reward>0:\n",
    "            print(reward)\n",
    "\n",
    "env.close()"
   ]
  },
  {
   "cell_type": "markdown",
   "metadata": {},
   "source": [
    "# Hyper parameter tuning\n",
    "\n",
    "* Using Optuna package tune the learning rate, no. of steps, gamma, clip range \n",
    "* Run a training loop and the mean reward"
   ]
  },
  {
   "cell_type": "code",
   "execution_count": null,
   "metadata": {},
   "outputs": [],
   "source": [
    "def optimize_ppo(trial):\n",
    "    return {\n",
    "        'n_steps': trial.suggest_int('n_steps', 2048, 8192),\n",
    "        'gamma': trial.suggest_loguniform('gamma', 0.8, 0.9999),\n",
    "        'learning_rate': trial.suggest_loguniform(\n",
    "            'learning_rate', 1e-5, 1e-4\n",
    "            ),\n",
    "        'clip_range': trial.suggest_uniform('clip_range', 0.1, 0.4),\n",
    "        'gae_lambda': trial.suggest_uniform('gae_lambda', 0.8, 0.99)\n",
    "    }\n",
    "\n",
    "# training loop\n",
    "def optimize_agent(trial):\n",
    "    try:\n",
    "        model_params = optimize_ppo(trial)\n",
    "\n",
    "        # create the environment\n",
    "        env = StreetFighter()\n",
    "        env = Monitor(env, LOG_DIR)\n",
    "        env = DummyVecEnv([lambda: env])\n",
    "        env = VecFrameStack(env, 4, channels_order='last')\n",
    "\n",
    "        # create the algo\n",
    "        model = PPO('CnnPolicy', env, tensorboard_log=LOG_DIR, \n",
    "        verbose=0, **model_params)\n",
    "        model.learn(total_timesteps=30000)\n",
    "        # model.learn(total_timesteps=100000)\n",
    "\n",
    "        # evaluate model\n",
    "        mean_reward, _ = evaluate_policy(model, env, n_eval_episodes=5)\n",
    "        env.close()\n",
    "\n",
    "        SAVE_PATH = os.path.join(OPT_DIR, 'trail_{}_best_model'.format(\n",
    "            trial.number\n",
    "            ))\n",
    "        model.save(SAVE_PATH)\n",
    "\n",
    "        return mean_reward\n",
    "    \n",
    "    except Exception as exc:\n",
    "        return -1000"
   ]
  },
  {
   "cell_type": "code",
   "execution_count": null,
   "metadata": {},
   "outputs": [],
   "source": [
    "study = optuna.create_study(direction='maximize') # create the experiment\n",
    "# study.optimize(optimize_agent, n_trials=10, n_jobs=1)\n",
    "study.optimize(optimize_agent, n_trials=100, n_jobs=1)\n",
    "model = PPO.load(os.path.join(OPT_DIR, 'trial_5_best_model.zip'))"
   ]
  },
  {
   "cell_type": "code",
   "execution_count": null,
   "metadata": {},
   "outputs": [],
   "source": [
    "class TrainAndLoggingCallback(BaseCallback):\n",
    "\n",
    "    \"\"\"\n",
    "    Implementing logs for training and callbacks\n",
    "    \"\"\"\n",
    "\n",
    "    def __init__(self, check_freq, save_path, verbose=1):\n",
    "        super(TrainAndLoggingCallback, self).__init__(verbose)\n",
    "        self.check_freq = check_freq\n",
    "        self.save_path = save_path\n",
    "\n",
    "    def _init_callback(self):\n",
    "        if self.save_path is not None:\n",
    "            os.makedirs(self.save_path, exist_ok=True)\n",
    "    \n",
    "    def _on_step(self):\n",
    "        if self.n_calls % self.check_freq == 0:\n",
    "            model_path = os.path.join(\n",
    "                self.save_path, 'best_model_{}'.format(self.n_calls)\n",
    "                )\n",
    "            self.model.save(model_path)\n",
    "        \n",
    "        return True"
   ]
  },
  {
   "cell_type": "code",
   "execution_count": null,
   "metadata": {},
   "outputs": [],
   "source": [
    "callback = TrainAndLoggingCallback(check_freq=10000, save_path=CHECKPOINT_DIR)"
   ]
  },
  {
   "cell_type": "markdown",
   "metadata": {},
   "source": [
    "# Training the model"
   ]
  },
  {
   "cell_type": "code",
   "execution_count": null,
   "metadata": {},
   "outputs": [],
   "source": [
    "env = StreetFighter()\n",
    "env = Monitor(env, LOG_DIR)\n",
    "env = DummyVecEnv([lambda: env])\n",
    "env = VecFrameStack(env, 4, channels_order='last')"
   ]
  },
  {
   "cell_type": "code",
   "execution_count": null,
   "metadata": {},
   "outputs": [],
   "source": [
    "model_params = study.best_params\n",
    "model_params['n_steps'] = 7488 # to remove errors, redefine the no of steps\n",
    "model = PPO(\n",
    "    'CnnPolicy', env, tensorboard_log=LOG_DIR, verbose=0, **model_params\n",
    "    )\n",
    "model.load(os.path.join(OPT_DIR, 'trial_5_best_model.zip'))\n",
    "\n",
    "# train the model on different number of timesteps for improved performance\n",
    "model.learn(total_timesteps=100000, callback=callback)\n",
    "#model.learn(total_timesteps=5000000, callback=callback)"
   ]
  },
  {
   "cell_type": "code",
   "execution_count": null,
   "metadata": {},
   "outputs": [],
   "source": [
    "# evaluate the model\n",
    "model = PPO.load('./opt/trial_5_best_model.zip')\n",
    "mean_reward, _ = evaluate_policy(\n",
    "    model, env, render=True, n_eval_episodes=5\n",
    "    )"
   ]
  },
  {
   "cell_type": "markdown",
   "metadata": {},
   "source": [
    "# Model Testing"
   ]
  },
  {
   "cell_type": "code",
   "execution_count": null,
   "metadata": {},
   "outputs": [],
   "source": [
    "obs = env.reset()\n",
    "done = False\n",
    "for game in range(1):\n",
    "    while not done:\n",
    "        if done:\n",
    "            obs = env.reset()\n",
    "        env.render()\n",
    "        action = model.predict(obs)[0]\n",
    "        obs, reward, done, info = env.step(action)\n",
    "        time.sleep(0.01)\n",
    "        print(reward)"
   ]
  }
 ],
 "metadata": {
  "kernelspec": {
   "display_name": "Python 3.9.4 ('my_env': venv)",
   "language": "python",
   "name": "python3"
  },
  "language_info": {
   "name": "python",
   "version": "3.9.4"
  },
  "orig_nbformat": 4,
  "vscode": {
   "interpreter": {
    "hash": "c561df5b380504ffbccc8b85330e26013812f8f02c6c1fe2d40e1c1351998e55"
   }
  }
 },
 "nbformat": 4,
 "nbformat_minor": 2
}
